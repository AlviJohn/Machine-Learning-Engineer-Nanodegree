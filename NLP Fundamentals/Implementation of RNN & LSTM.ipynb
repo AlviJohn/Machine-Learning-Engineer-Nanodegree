{
 "cells": [
  {
   "cell_type": "markdown",
   "metadata": {},
   "source": [
    "# Implementation of RNN & LSTM\n",
    "\n",
    "RNN have some kind of built-in \"memory\". Therefore, they are useful for tasks that are time or sequence dependent.\n",
    "\n",
    "Challenges in designing and implementing any kind of RNN:\n",
    "\n",
    "1. How to pre-process sequential data: Transform into numerical data for RNN\n",
    "2. How can we represent memory in code?\n",
    "\n",
    "## `Simple RNN` for Time-Series Prediction\n",
    "- [Link](https://github.com/udacity/deep-learning-v2-pytorch/blob/master/recurrent-neural-networks/time-series/Simple_RNN.ipynb)\n",
    "- Simple RNN to do time-series prediction given some generated input data. \n",
    "\n",
    "Steps are: \n",
    "\n",
    "1. Create data\n",
    "2. Define an RNN in Python\n",
    "3. Train network and see how it performs\n",
    "\n",
    "### Import resources and create data"
   ]
  },
  {
   "cell_type": "code",
   "execution_count": 1,
   "metadata": {},
   "outputs": [],
   "source": [
    "# numpy\n",
    "import numpy as np\n",
    "\n",
    "# torch imports\n",
    "import torch\n",
    "from torch import nn\n",
    "\n",
    "# Vis\n",
    "import matplotlib.pyplot as plt\n",
    "%matplotlib inline"
   ]
  },
  {
   "cell_type": "code",
   "execution_count": 2,
   "metadata": {},
   "outputs": [
    {
     "name": "stdout",
     "output_type": "stream",
     "text": [
      "three time_steps: [0.         0.15707963 0.31415927]\n",
      "data.shape:  (21,)\n",
      "data.shape:  (21, 1)\n"
     ]
    },
    {
     "data": {
      "image/png": "[encoded data removed]",
      "text/plain": [
       "<matplotlib.figure.Figure at 0x1a42a4a6860>"
      ]
     },
     "metadata": {
      "needs_background": "light"
     },
     "output_type": "display_data"
    }
   ],
   "source": [
    "# vis\n",
    "plt.figure(figsize=(8,5))\n",
    "\n",
    "# time steps / data points in one batch of data\n",
    "seq_length = 20\n",
    "\n",
    "# generate data pts\n",
    "time_steps = np.linspace(0, np.pi, seq_length+1)\n",
    "print(\"three time_steps:\",time_steps[:3])\n",
    "\n",
    "data = np.sin(time_steps)\n",
    "print(\"data.shape: \", data.shape)\n",
    "data.resize((seq_length + 1, 1))\n",
    "print(\"data.shape: \", data.shape)\n",
    "\n",
    "x = data[:-1]\n",
    "y = data[1:]\n",
    "\n",
    "# show me the data\n",
    "plt.plot(time_steps[1:], x, \"r.\", label=\"input, x\")\n",
    "plt.plot(time_steps[1:], y, \"b.\", label=\"target, y\")\n",
    "\n",
    "plt.legend(loc=\"best\")\n",
    "plt.show()"
   ]
  },
  {
   "cell_type": "markdown",
   "metadata": {},
   "source": [
    "### Define the RNN\n",
    "\n",
    "Define a class (OOP) to build an RNN in PyTorch. \n",
    "\n",
    "- `nn.RNN` to create an RNN layer\n",
    "- Add fully-connected layer to get the output size we want\n",
    "\n",
    "#### `nn.RNN`\n",
    "\n",
    "- [Documentation nn.RNN](https://pytorch.org/docs/stable/nn.html#rnn)\n",
    "\n",
    "This class applies a multi-layer Elman RNN to an input sequence (either using *tanh* or *ReLU*). Default: `tanh`, then for each element in the input sequence, each layer computes the following function: \n",
    "\n",
    "$$\n",
    "h_t = tanh(W_{ih} \\cdot x_t + b_{ih} + W_{hh} \\cdot h_{(t-1)} + b_{hh})\n",
    "$$\n",
    "\n",
    "where \n",
    "\n",
    "- $h_t$ is the hidden state at time t,\n",
    "- $x_t$ is the input at time t, \n",
    "- $h_{(t-1)}$ is the hidden state of the previous layer at time t-1 or the initial hidden state at time 0.\n",
    "\n",
    "Parameters: \n",
    "\n",
    "- **input_size**: What is the size of the input?\n",
    "- **hidden_size**: How many features does the hidden state h has?\n",
    "- **num_layers**: How many layers should the RNN have? Typically 1-3, greater than 1 means that stacked RNN are created.\n",
    "- **batch_first**: Should the input and output tensors be provided as `(batch, seq, feature)`? Deault: `False`\n",
    "- **dropout**: If non-zero, introduces a *Dropout layer* on the outputs of each RNN layer except the last layer, with dropout probability equal to *dropout*. Default: 0\n",
    "\n",
    "Inputs: input, h_0\n",
    "\n",
    "- **input** of shape (seq_len, batch, input_size)\n",
    " - Tensor containing the features of the input sequence. \n",
    " - Input can also be a packed variable length sequence. \n",
    "- **h_0** of shape (num_layers*num_directions, batch, hidden_size)\n",
    " - Tensor containing the initial hidden state for each element in the batch. Defaults to zero if not provided. \n",
    " - If the RNN is bidirectional, num_directions should be 2, else it should be 1.\n",
    " \n",
    "Outputs: output, h_n\n",
    "\n",
    "- **output** of shape (seq_len, batch, num_directions*hidden_size)\n",
    " - tensor containing the output features (h_t) from the last layer of the RNN, for each t. \n",
    " - If a `torch.nn.utils.rnn.PackedSequence`has been given as the input, the output will also be a packed sequence. \n",
    " - For the unpacked case, the directions can be separated using `output.view(seq_len, batch, num_directions, hidden_size)` with forward and backwared being direction 0 and 1 respectively. Similarly, the directions can be separated in the packed case. \n",
    "- **h_n** of shape (num_layers*num_directions, batch, hidden_size)\n",
    " - tensor containing the hidden state for t=seq_len\n",
    " - Like output, the layers can be separated using `h_n.view(num_layers, num_directions, batch, hidden_size)`"
   ]
  },
  {
   "cell_type": "code",
   "execution_count": 3,
   "metadata": {},
   "outputs": [],
   "source": [
    "# define RNN class\n",
    "class RNN(nn.Module):\n",
    "    def __init__(self, input_size, output_size, hidden_dim, n_layers):\n",
    "        super(RNN, self).__init__()\n",
    "        \n",
    "        self.hidden_dim = hidden_dim\n",
    "        # batch_first means that first dim of input and output will be batch_size\n",
    "        self.rnn = nn.RNN(input_size, hidden_dim, n_layers, batch_first=True)\n",
    "        self.fc = nn.Linear(hidden_dim, output_size)\n",
    "        \n",
    "    def forward(self, x, hidden):\n",
    "        # x (batch_size, seq_length, input_size)\n",
    "        # hidden (num_layers, batch_size, hidden_size)\n",
    "        # r_out (batch_size, time_step, hidden_dim)\n",
    "        \n",
    "        batch_size = x.size(0)\n",
    "        \n",
    "        # RNN outputs\n",
    "        r_out, hidden = self.rnn(x, hidden)\n",
    "        r_out = r_out.view(-1, self.hidden_dim)\n",
    "        output = self.fc(r_out)\n",
    "        \n",
    "        return output, hidden"
   ]
  },
  {
   "cell_type": "markdown",
   "metadata": {},
   "source": [
    "#### Check the input and output dimensions"
   ]
  },
  {
   "cell_type": "code",
   "execution_count": 4,
   "metadata": {},
   "outputs": [
    {
     "name": "stdout",
     "output_type": "stream",
     "text": [
      "(20,)\n",
      "(20, 1)\n",
      "Input size:  torch.Size([1, 20, 1])\n",
      "Output size:  torch.Size([20, 1])\n",
      "Hidden state size:  torch.Size([2, 1, 10])\n"
     ]
    }
   ],
   "source": [
    "test_rnn = RNN(input_size=1, \n",
    "               output_size=1, \n",
    "               hidden_dim=10, \n",
    "               n_layers=2)\n",
    "\n",
    "time_steps = np.linspace(0, np.pi, seq_length)\n",
    "data = np.sin(time_steps)\n",
    "print(data.shape)\n",
    "data.resize((seq_length, 1))\n",
    "print(data.shape)\n",
    "\n",
    "test_input = torch.Tensor(data).unsqueeze(0)\n",
    "print(\"Input size: \", test_input.size())\n",
    "\n",
    "# test out rnn sizes\n",
    "test_out, test_h = test_rnn(test_input, None)\n",
    "print('Output size: ', test_out.size())\n",
    "print('Hidden state size: ', test_h.size())"
   ]
  },
  {
   "cell_type": "markdown",
   "metadata": {},
   "source": [
    "### Training the RNN\n",
    "\n",
    "- Instantiate an RNN with some specified hyperparameters. \n",
    "- Then train it over a series of steps and see how it performs.\n",
    "- Regression problem: data points are coordinate values, so to compare predicted vs ground_truth, we'll use a regression loss, i.e. MSE\n",
    "- Typical optimizer for recurrent models: Adam optimizer"
   ]
  },
  {
   "cell_type": "code",
   "execution_count": 5,
   "metadata": {},
   "outputs": [],
   "source": [
    "# hyperparameters\n",
    "input_size = 1\n",
    "output_size = 1\n",
    "hidden_dim = 32\n",
    "n_layers = 1\n",
    "\n",
    "# instantiate RNN\n",
    "rnn = RNN(input_size, output_size, hidden_dim, n_layers)\n",
    "\n",
    "# loss criterion\n",
    "criterion = nn.MSELoss()\n",
    "\n",
    "# optimizer\n",
    "optimizer = torch.optim.Adam(rnn.parameters(), lr=0.01)"
   ]
  },
  {
   "cell_type": "markdown",
   "metadata": {},
   "source": [
    "### Training \n",
    "\n",
    "First, we'll use a simple loop to get more flexibility with the outputs. Afterwards, define the function\n",
    "\n",
    "- Function takes in an rnn, a number of steps to train for (epochs), returns a trained rnn.\n",
    "- Responsible for displaying the loss and the predictions, every so often.\n",
    "\n",
    "#### Hidden state\n",
    "\n",
    "- Before the loop: Hidden state is initialized\n",
    "- After a new hidden state is generated by the rnn, we get the latest hidden state, and use that as input to the rnn for the following steps"
   ]
  },
  {
   "cell_type": "code",
   "execution_count": 6,
   "metadata": {},
   "outputs": [
    {
     "name": "stdout",
     "output_type": "stream",
     "text": [
      "\n",
      "batch_i: 0\n",
      "step: 0 step*np.pi: 0.0\n",
      "time_steps: [0.         0.15707963 0.31415927]\n",
      "(21,)\n",
      "(21, 1)\n",
      "x.shape (20, 1)\n",
      "y.shape (20, 1)\n",
      "output.shape torch.Size([20, 1])\n",
      "tensor([[-0.2097],\n",
      "        [-0.2500],\n",
      "        [-0.2578]], grad_fn=<SliceBackward>)\n",
      "hidden.shape torch.Size([1, 1, 32])\n",
      "loss: tensor(0.8562, grad_fn=<MseLossBackward>)\n",
      "before step:\n",
      " tensor([[ 0.0949, -0.0903, -0.1738]], grad_fn=<SliceBackward>)\n",
      "after step:\n",
      " tensor([[ 0.0849, -0.1003, -0.1838]], grad_fn=<SliceBackward>)\n",
      "Loss:  0.8561934232711792\n"
     ]
    },
    {
     "data": {
      "image/png": "[encoded data removed]",
      "text/plain": [
       "<matplotlib.figure.Figure at 0x1a42a57fe80>"
      ]
     },
     "metadata": {
      "needs_background": "light"
     },
     "output_type": "display_data"
    },
    {
     "name": "stdout",
     "output_type": "stream",
     "text": [
      "\n",
      "batch_i: 1\n",
      "step: 1 step*np.pi: 3.14\n",
      "time_steps: [3.14159265 3.29867229 3.45575192]\n",
      "(21,)\n",
      "(21, 1)\n",
      "x.shape (20, 1)\n",
      "y.shape (20, 1)\n",
      "output.shape torch.Size([20, 1])\n",
      "tensor([[-0.1108],\n",
      "        [-0.0826],\n",
      "        [-0.1018]], grad_fn=<SliceBackward>)\n",
      "hidden.shape torch.Size([1, 1, 32])\n",
      "loss: tensor(0.2872, grad_fn=<MseLossBackward>)\n",
      "before step:\n",
      " tensor([[ 0.0849, -0.1003, -0.1838]], grad_fn=<SliceBackward>)\n",
      "after step:\n",
      " tensor([[ 0.0793, -0.1103, -0.1767]], grad_fn=<SliceBackward>)\n",
      "Loss:  0.2872040271759033\n"
     ]
    },
    {
     "data": {
      "image/png": "[encoded data removed]",
      "text/plain": [
       "<matplotlib.figure.Figure at 0x1a42b585278>"
      ]
     },
     "metadata": {
      "needs_background": "light"
     },
     "output_type": "display_data"
    },
    {
     "name": "stdout",
     "output_type": "stream",
     "text": [
      "\n",
      "batch_i: 2\n",
      "step: 2 step*np.pi: 6.28\n",
      "time_steps: [6.28318531 6.44026494 6.59734457]\n",
      "(21,)\n",
      "(21, 1)\n",
      "x.shape (20, 1)\n",
      "y.shape (20, 1)\n",
      "output.shape torch.Size([20, 1])\n",
      "tensor([[-0.1083],\n",
      "        [-0.0849],\n",
      "        [-0.0593]], grad_fn=<SliceBackward>)\n",
      "hidden.shape torch.Size([1, 1, 32])\n",
      "loss: tensor(0.4092, grad_fn=<MseLossBackward>)\n",
      "before step:\n",
      " tensor([[ 0.0793, -0.1103, -0.1767]], grad_fn=<SliceBackward>)\n",
      "after step:\n",
      " tensor([[ 0.0732, -0.1201, -0.1758]], grad_fn=<SliceBackward>)\n",
      "Loss:  0.40921398997306824\n"
     ]
    },
    {
     "data": {
      "image/png": "[encoded data removed]",
      "text/plain": [
       "<matplotlib.figure.Figure at 0x1a42b6312b0>"
      ]
     },
     "metadata": {
      "needs_background": "light"
     },
     "output_type": "display_data"
    }
   ],
   "source": [
    "n_steps = 3\n",
    "print_every = 1\n",
    "\n",
    "hidden = None\n",
    "\n",
    "# define training data\n",
    "for batch_i, step in enumerate(range(n_steps)):\n",
    "    \n",
    "    print(\"\\nbatch_i:\", batch_i)\n",
    "    time_steps = np.linspace(step*np.pi, (step+1)*np.pi, seq_length+1)\n",
    "    print(\"step:\", step, \"step*np.pi:\", round(step*np.pi,2)) \n",
    "    print(\"time_steps:\" , time_steps[:3] )\n",
    "    \n",
    "    data = np.sin(time_steps)\n",
    "    print(data.shape)\n",
    "    data.resize((seq_length+1, 1))\n",
    "    print(data.shape)\n",
    "    \n",
    "    x = data[:-1]\n",
    "    y = data[1:]\n",
    "    \n",
    "    print(\"x.shape\", x.shape)\n",
    "    print(\"y.shape\", y.shape)\n",
    "    \n",
    "    # convert data to tensors\n",
    "    x_tensor = torch.Tensor(x).unsqueeze(0) \n",
    "    y_tensor = torch.Tensor(y)\n",
    "    \n",
    "    # forward method\n",
    "    # return output, hidden\n",
    "    output, hidden = rnn(x_tensor, hidden)\n",
    "    \n",
    "    print(\"output.shape\", output.shape)\n",
    "    print(output[:3])\n",
    "    print(\"hidden.shape\", hidden.shape)\n",
    "    \n",
    "    ### Memory ###\n",
    "    # new hidden variable, detach hidden state from history\n",
    "    # this way, we don't backpropagate through the entire histoy\n",
    "    hidden = hidden.data\n",
    "    \n",
    "    # calculate loss\n",
    "    loss = criterion(output, y_tensor)\n",
    "    print(\"loss:\", loss)\n",
    "    \n",
    "    # zero grads\n",
    "    optimizer.zero_grad()\n",
    "    \n",
    "    # backward pass\n",
    "    loss.backward()\n",
    "    \n",
    "    # take one step using gradients\n",
    "    print(\"before step:\\n\",rnn.fc.weight[:,:3])\n",
    "    optimizer.step()\n",
    "    print(\"after step:\\n\",rnn.fc.weight[:,:3])\n",
    "    \n",
    "    if batch_i%print_every == 0:        \n",
    "        print('Loss: ', loss.item())\n",
    "        plt.plot(time_steps[1:], x, 'r.') # input\n",
    "        plt.plot(time_steps[1:], output.data.numpy().flatten(), 'b.') # predictions\n",
    "        plt.show()\n",
    "    "
   ]
  },
  {
   "cell_type": "markdown",
   "metadata": {},
   "source": [
    "#### Training function"
   ]
  },
  {
   "cell_type": "code",
   "execution_count": 7,
   "metadata": {},
   "outputs": [],
   "source": [
    "# train the RNN\n",
    "def train(rnn, n_steps, print_every):\n",
    "    \n",
    "    # initialize the hidden state\n",
    "    hidden = None      \n",
    "    \n",
    "    for batch_i, step in enumerate(range(n_steps)):\n",
    "        # defining the training data \n",
    "        time_steps = np.linspace(step * np.pi, (step+1)*np.pi, seq_length + 1)\n",
    "        data = np.sin(time_steps)\n",
    "        data.resize((seq_length + 1, 1)) # input_size=1\n",
    "\n",
    "        x = data[:-1]\n",
    "        y = data[1:]\n",
    "        \n",
    "        # convert data into Tensors\n",
    "        x_tensor = torch.Tensor(x).unsqueeze(0) # unsqueeze gives a 1, batch_size dimension\n",
    "        y_tensor = torch.Tensor(y)\n",
    "\n",
    "        # outputs from the rnn\n",
    "        prediction, hidden = rnn(x_tensor, hidden)\n",
    "\n",
    "        ## Representing Memory ##\n",
    "        # make a new variable for hidden and detach the hidden state from its history\n",
    "        # this way, we don't backpropagate through the entire history\n",
    "        hidden = hidden.data\n",
    "\n",
    "        # calculate the loss\n",
    "        loss = criterion(prediction, y_tensor)\n",
    "        # zero gradients\n",
    "        optimizer.zero_grad()\n",
    "        # perform backprop and update weights\n",
    "        loss.backward()\n",
    "        optimizer.step()\n",
    "\n",
    "        # display loss and predictions\n",
    "        if batch_i%print_every == 0:        \n",
    "            print('Loss: ', loss.item())\n",
    "            plt.plot(time_steps[1:], x, 'r.') # input \n",
    "            \n",
    "            plt.plot(time_steps[1:], prediction.data.numpy().flatten(), 'b.') # predictions\n",
    "            plt.show()\n",
    "    \n",
    "    return rnn"
   ]
  },
  {
   "cell_type": "code",
   "execution_count": 8,
   "metadata": {},
   "outputs": [
    {
     "name": "stdout",
     "output_type": "stream",
     "text": [
      "Loss:  0.24725601077079773\n"
     ]
    },
    {
     "data": {
      "image/png": "[encoded data removed]",
      "text/plain": [
       "<matplotlib.figure.Figure at 0x1a42a4a6550>"
      ]
     },
     "metadata": {
      "needs_background": "light"
     },
     "output_type": "display_data"
    },
    {
     "name": "stdout",
     "output_type": "stream",
     "text": [
      "Loss:  0.0018565478967502713\n"
     ]
    },
    {
     "data": {
      "image/png": "[encoded data removed]",
      "text/plain": [
       "<matplotlib.figure.Figure at 0x1a42b6bd470>"
      ]
     },
     "metadata": {
      "needs_background": "light"
     },
     "output_type": "display_data"
    },
    {
     "name": "stdout",
     "output_type": "stream",
     "text": [
      "Loss:  0.004181271884590387\n"
     ]
    },
    {
     "data": {
      "image/png": "[encoded data removed]",
      "text/plain": [
       "<matplotlib.figure.Figure at 0x1a42b9882e8>"
      ]
     },
     "metadata": {
      "needs_background": "light"
     },
     "output_type": "display_data"
    },
    {
     "name": "stdout",
     "output_type": "stream",
     "text": [
      "Loss:  0.0002776418696157634\n"
     ]
    },
    {
     "data": {
      "image/png": "[encoded data removed]",
      "text/plain": [
       "<matplotlib.figure.Figure at 0x1a42ba0d128>"
      ]
     },
     "metadata": {
      "needs_background": "light"
     },
     "output_type": "display_data"
    },
    {
     "name": "stdout",
     "output_type": "stream",
     "text": [
      "Loss:  0.00013561549712903798\n"
     ]
    },
    {
     "data": {
      "image/png": "[encoded data removed]",
      "text/plain": [
       "<matplotlib.figure.Figure at 0x1a42ba40d30>"
      ]
     },
     "metadata": {
      "needs_background": "light"
     },
     "output_type": "display_data"
    }
   ],
   "source": [
    "# train the rnn and monitor results\n",
    "n_steps = 75\n",
    "print_every = 15\n",
    "\n",
    "trained_rnn = train(rnn, n_steps, print_every)"
   ]
  },
  {
   "cell_type": "markdown",
   "metadata": {},
   "source": [
    "# Main types of recurrent layers in PyTorch\n",
    "\n",
    "[Recurrent layers](https://pytorch.org/docs/stable/nn.html#recurrent-layers)\n",
    "\n",
    "- RNN\n",
    "- LSTM\n",
    "- GRU\n",
    "\n",
    "#### nn.RNN\n",
    "\n",
    "Applies a multi-layer Elman RNN with *tanh* or *ReLU* non-linearity to an input sequence. \n",
    "\n",
    "For each element in the input sequence, each layer computes the following function: \n",
    "\n",
    "$$\n",
    "h_t = tanh(W_{ih} \\cdot x_t + b_{ih} + W_{hh} \\cdot h_{(t-1)} + b_{hh})\n",
    "$$\n",
    "\n",
    "- $h_t$ is the hidden state at time t, \n",
    "- $x_t$ is the input at time t, \n",
    "- $h_{(t-1)}$ is the hidden state of previous layer at time t-1 or the initial hidden state at t=0. \n",
    "\n",
    "If `nonlinearity` is `relu`, then *ReLU* is used instead of tanh. "
   ]
  },
  {
   "cell_type": "code",
   "execution_count": 9,
   "metadata": {},
   "outputs": [
    {
     "name": "stdout",
     "output_type": "stream",
     "text": [
      "RNN(10, 20, num_layers=2)\n",
      "output.shape: torch.Size([5, 3, 20])\n",
      "output head:\n",
      " tensor([[-0.4160,  0.4501, -0.0490, -0.1973, -0.2946,  0.0038,  0.1059,  0.4755,\n",
      "          0.0306,  0.2924,  0.2746, -0.3990, -0.0469,  0.3173, -0.0099, -0.3336,\n",
      "         -0.4146,  0.2576,  0.1286,  0.4489],\n",
      "        [-0.4335, -0.5689,  0.3462, -0.4779,  0.4143, -0.2578,  0.3115,  0.4263,\n",
      "          0.0412, -0.3511, -0.4194,  0.4908,  0.4340,  0.2146, -0.3366,  0.7841,\n",
      "         -0.3529, -0.2936,  0.6682, -0.2955],\n",
      "        [-0.2181, -0.2959,  0.3400, -0.1972,  0.3242, -0.3022, -0.0967,  0.7462,\n",
      "          0.0919,  0.0558,  0.2579,  0.4014, -0.6291,  0.5456, -0.1857,  0.0449,\n",
      "         -0.0954, -0.1524,  0.0581,  0.6300]], grad_fn=<SliceBackward>)\n"
     ]
    }
   ],
   "source": [
    "# Example: nn.RNN\n",
    "input_size = 10\n",
    "hidden_size = 20\n",
    "\n",
    "rnn = nn.RNN(input_size, hidden_size, num_layers=2)\n",
    "print(rnn)\n",
    "\n",
    "# input shape: seq_len, batch, input_size\n",
    "my_input = torch.randn(5, 3, 10)\n",
    "\n",
    "# shape h0: (num_layers*num_directions, batch, hidden_size)\n",
    "h0 = torch.randn(2, 3, 20)\n",
    "\n",
    "output, hn = rnn(my_input, h0)\n",
    "\n",
    "print(\"output.shape:\",output.shape)\n",
    "print(\"output head:\\n\", output[1,:,:])"
   ]
  },
  {
   "cell_type": "markdown",
   "metadata": {},
   "source": [
    "#### nn.LSTM\n",
    "\n",
    "Applies a multi-layer long short-term memory (LSTM) RNN to an input sequence. For each element in the input sequence, each layer computes the following function: \n",
    "\n",
    "$$\n",
    "\\begin{align}\n",
    "i_t &= \\sigma (W_{ii} \\cdot x_t + b_{ii} + W_{hi} \\cdot h_{(t-1)} + b_{hi}) \\\\\n",
    "f_t &= \\sigma (W_{if} \\cdot x_t + b_{if} + W_{hf} \\cdot h_{(t-1)} + b_{hf}) \\\\\n",
    "g_t &= tanh(W_{ig} \\cdot x_t + b_{ig} + W_{hg}\\cdot h_{(t-1)} + b_{hg}) \\\\\n",
    "o_t &= \\sigma(W_{i0} \\cdot x_t + b_{io} + W_{ho} h_{(t-1)} + b_{ho}) \\\\\n",
    "c_t &= f_t * c_{(t-1)} + i_t * g_t \\\\\n",
    "h_t &= o_t * tanh(c_t) \n",
    "\\end{align}\n",
    "$$\n",
    "\n",
    "where\n",
    "\n",
    "- $h_t$ is the hidden state at time t\n",
    "- $c_t$ is the cell state at time t, $x_t$ is the input at time t, \n",
    "- $h_{(t-1)}$ is the hidden state of the layer at time t-1 or the initial hidden state at time t=0.\n",
    "- $i_t$: input gate\n",
    "- $f_t$: forget gate\n",
    "- $g_t$: cell state (gate gate)\n",
    "- $o_t$: output gate\n",
    "- $\\sigma$ is the sigmoid function\n",
    "- $*$ is the [Hadamard product](https://en.wikipedia.org/wiki/Hadamard_product_(matrices)). \n",
    " - It takes two matrices of the same dimensions and produces another matrix of the same dimensions\n",
    " - Each element i, j is the product of elements i, j of the original two matrices. \n",
    "\n",
    "In a multilayer LSTM, the input $x_t^{(l)}$ of the l-th layer ($l \\geq 2$) is the hidden state $h_t^{(l-1)}$ of the previous layer multiplied by dropout $\\delta_t ^{(l-1)}$ where each $\\delta_t^{(l-1)}$ is a Bernoulli random variable which is 0 with probability `dropout`."
   ]
  },
  {
   "cell_type": "code",
   "execution_count": 10,
   "metadata": {},
   "outputs": [
    {
     "name": "stdout",
     "output_type": "stream",
     "text": [
      "input shape: torch.Size([5, 3, 10])\n",
      "LSTM input: 10, LSTM hidden: 20, LSTM layers: 2\n",
      "output shape: torch.Size([5, 3, 20])\n",
      "hn shape: torch.Size([2, 3, 20])\n",
      "cn shape: torch.Size([2, 3, 20])\n"
     ]
    }
   ],
   "source": [
    "# Example: nn.LSTM\n",
    "input_size = 10 # number of expected features in the input x\n",
    "hidden_size = 20 # number of feature in hidden state h\n",
    "num_layers = 2\n",
    "batch = 3\n",
    "\n",
    "my_net = nn.LSTM(input_size, hidden_size, num_layers)\n",
    "my_net\n",
    "\n",
    "my_input = torch.randn(5, 3, 10)\n",
    "\n",
    "# initial hidden shape: num_layers*num_directions, batch, hidden_size\n",
    "h0 = torch.randn(2, 3, 20)\n",
    "\n",
    "# initial cell state shape: num_layers*num_directions, batch, hidden_size \n",
    "c0 = torch.randn(2, 3, 20)\n",
    "\n",
    "output, (hn, cn) = my_net(my_input, (h0, c0))\n",
    "\n",
    "print(\"input shape:\", my_input.shape)\n",
    "print(\"LSTM input: {}, LSTM hidden: {}, LSTM layers: {}\".format(input_size, hidden_size, num_layers) )\n",
    "\n",
    "print(\"output shape:\", output.shape)\n",
    "print(\"hn shape:\", hn.shape)\n",
    "print(\"cn shape:\", cn.shape)"
   ]
  },
  {
   "cell_type": "markdown",
   "metadata": {},
   "source": [
    "#### nn.GRU\n",
    "\n",
    "Applies a multi-layer gated recurrent unit (GRU) RNN to an input sequence. \n",
    "\n",
    "For each element in the input sequence, each layer computes the following function: \n",
    "\n",
    "$$\n",
    "\\begin{aligned}\n",
    "r_t &= \\sigma (W_{ir} \\cdot x_t + b_{ir} + W_{hr} \\cdot h_{(t-1)} + b_{hr}) \\\\\n",
    "z_t &= \\sigma (W_{iz} \\cdot b_{iz} + W_{hz} h_{(t-1)} + b_{hz}) \\\\\n",
    "n_z &= tanh(W_{in} x_t + b_{in} + r_t * (W_{hn} h_{(t-1)} + b_{hn})) \\\\\n",
    "h_t &= (1-z_t) * n_t + z_t * h_{(t-1)}\n",
    "\\end{aligned}\n",
    "$$\n",
    "\n",
    "where \n",
    "\n",
    "- $h_t$ is the hidden state at time t, \n",
    "- $x_t$ is the input at time t, \n",
    "- $h_{(t-1)}$ is the hidden state of the layer at time t-1 or the initial hidden state at time t=0\n",
    "- $r_t$: reset gate\n",
    "- $z_t$: update gate\n",
    "- $n_t$: new gate\n",
    "- $\\sigma$ is the sigmoid function\n",
    "- $*$ is the Hadamard product\n",
    "\n",
    "In a multilayer GRU, the input $x_t^{(l)}$ of the l-th layer ($l \\geq 2$) is the hidden state $h_t^{(l-1)}$ of the previous layer multiplied by dropout $\\delta_t ^{(l-1)}$ where each $\\delta_t^{(l-1)}$ is a Bernoulli random variable which is 0 with probability `dropout`."
   ]
  },
  {
   "cell_type": "code",
   "execution_count": 11,
   "metadata": {},
   "outputs": [
    {
     "name": "stdout",
     "output_type": "stream",
     "text": [
      "output shape: torch.Size([5, 3, 20])\n",
      "hn shape: torch.Size([2, 3, 20])\n"
     ]
    }
   ],
   "source": [
    "# Example: nn.GRU\n",
    "input_size = 10\n",
    "hidden_size = 20\n",
    "\n",
    "my_gru = nn.GRU(input_size, hidden_size, num_layers=2)\n",
    "\n",
    "# input shape: seq_len, batch, input_size\n",
    "my_input = torch.randn(5, 3, 10)\n",
    "\n",
    "# initial hidden shape: num_layers*num_directions, batch, hidden_size\n",
    "h0 = torch.randn(2, 3, 20)\n",
    "\n",
    "# output shape: seq_len, batch, num_directions*hidden_size\n",
    "# hn shape: num_layers*num_directions, batch, hidden_size\n",
    "output, hn = my_gru(my_input, h0)\n",
    "\n",
    "print(\"output shape:\", output.shape)\n",
    "print(\"hn shape:\", hn.shape)"
   ]
  },
  {
   "cell_type": "code",
   "execution_count": 12,
   "metadata": {},
   "outputs": [
    {
     "name": "stdout",
     "output_type": "stream",
     "text": [
      "Done!\n"
     ]
    }
   ],
   "source": [
    "print(\"Done!\")"
   ]
  }
 ],
 "metadata": {
  "kernelspec": {
   "display_name": "Python [conda env:Anaconda3]",
   "language": "python",
   "name": "conda-env-Anaconda3-py"
  },
  "language_info": {
   "codemirror_mode": {
    "name": "ipython",
    "version": 3
   },
   "file_extension": ".py",
   "mimetype": "text/x-python",
   "name": "python",
   "nbconvert_exporter": "python",
   "pygments_lexer": "ipython3",
   "version": "3.6.8"
  }
 },
 "nbformat": 4,
 "nbformat_minor": 2
}
