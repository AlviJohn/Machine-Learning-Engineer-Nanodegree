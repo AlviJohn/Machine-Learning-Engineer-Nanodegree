{
 "cells": [
  {
   "cell_type": "markdown",
   "metadata": {},
   "source": [
    "# Object-Oriented Programming - Part 2\n",
    "\n",
    "This is the second Jupyter Notebook on OOP. Previously the main building blocks for OOP have been introduced. \n",
    "\n",
    "From here, the focus lies on an organisation in modules, i.e. Modularized Code. The main parts are therefore written in separate `.py` scripts. \n",
    "\n",
    "This notebook will serve as a guide and for making notes on the topic.\n",
    "\n",
    "## Organizing into Modules\n",
    "\n",
    "- In Python, a module is a single Python file that contains a collection of functions, classes, and or global variables.\n",
    "- A package is essentially a collection of modules places into a directory\n",
    "\n",
    "- [virtual machines in the cloud](https://aws.amazon.com/de/getting-started/tutorials/launch-a-virtual-machine/)"
   ]
  },
  {
   "cell_type": "code",
   "execution_count": null,
   "metadata": {},
   "outputs": [],
   "source": [
    "\n"
   ]
  }
 ],
 "metadata": {
  "kernelspec": {
   "display_name": "Python [conda env:Anaconda3]",
   "language": "python",
   "name": "conda-env-Anaconda3-py"
  },
  "language_info": {
   "codemirror_mode": {
    "name": "ipython",
    "version": 3
   },
   "file_extension": ".py",
   "mimetype": "text/x-python",
   "name": "python",
   "nbconvert_exporter": "python",
   "pygments_lexer": "ipython3",
   "version": "3.6.6"
  }
 },
 "nbformat": 4,
 "nbformat_minor": 2
}
