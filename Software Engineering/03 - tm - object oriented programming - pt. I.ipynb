{
 "cells": [
  {
   "cell_type": "markdown",
   "metadata": {},
   "source": [
    "# Object-oriented programming\n",
    "\n",
    "- Syntax of OOP\n",
    "- Build a python package to analyze distributions. \n",
    "\n",
    "Outline \n",
    "\n",
    "- Object-oriented programming syntax\n",
    " - procedural vs object-oriented programming\n",
    " - classes, objects, methods and attributes\n",
    " - magic methods\n",
    " - inheritance\n",
    "\n",
    "- Using OOP to make a Python package\n",
    " - making a package\n",
    " - tour of scikit-learn source code\n",
    " - putting your package on PyPi\n",
    " \n",
    "> Objects are definey by **characteristics** and **actions**!\n",
    "\n",
    "Example Salesperson:\n",
    "\n",
    "- Characteristics: Name, Address, Phone Number\n",
    "- Actions: Sell item, take items, clean, etc. \n",
    "\n",
    "## Class, object, method, attribute\n",
    "\n",
    "- class - a blueprint consisting of methods and attributes\n",
    "- object - an instance of a class. It can help to think of objects as something in the real world like a yellow pencil, a small dog, a blue shirt, etc. However, as you'll see later in the lesson, objects can be more abstract.\n",
    "- attribute - a descriptor or characteristic. Examples would be color, length, size, etc. These attributes can take on specific values like blue, 3 inches, large, etc.\n",
    "- method - an action that a class or object could take\n",
    "- OOP - a commonly used abbreviation for object-oriented programming\n",
    "- encapsulation - one of the fundamental ideas behind object-oriented programming is called encapsulation: you can combine functions and data all into a single entity. In object-oriented programming, this single entity is called a class. Encapsulation allows you to hide implementation details much like how the scikit-learn package hides the implementation of machine learning algorithms.\n",
    "\n",
    "## OOP Syntax"
   ]
  },
  {
   "cell_type": "code",
   "execution_count": 1,
   "metadata": {},
   "outputs": [],
   "source": [
    "# Define a class\n",
    "class Shirt: \n",
    "    def __init__(self, shirt_color, shirt_size, shirt_style, shirt_price):\n",
    "        self.color = shirt_color\n",
    "        self.size = shirt_size\n",
    "        self.style = shirt_style\n",
    "        self.price = shirt_price\n",
    "        \n",
    "    def change_price(self, new_price):\n",
    "        self.price = new_price\n",
    "        \n",
    "    def discount(self, discount):\n",
    "        return self.price * (1-discount)    "
   ]
  },
  {
   "cell_type": "code",
   "execution_count": 2,
   "metadata": {},
   "outputs": [
    {
     "data": {
      "text/plain": [
       "<__main__.Shirt at 0x1c416e5bd30>"
      ]
     },
     "execution_count": 2,
     "metadata": {},
     "output_type": "execute_result"
    }
   ],
   "source": [
    "# Instantiate an object of the clas\n",
    "Shirt(\"red\", \"S\", \"short sleeve\", 15)"
   ]
  },
  {
   "cell_type": "markdown",
   "metadata": {},
   "source": [
    "- location and memory where the object is stored"
   ]
  },
  {
   "cell_type": "code",
   "execution_count": 12,
   "metadata": {},
   "outputs": [
    {
     "name": "stdout",
     "output_type": "stream",
     "text": [
      "red\n",
      "S\n",
      "short sleeve\n",
      "10\n",
      "8.0\n"
     ]
    }
   ],
   "source": [
    "# instantiate and save object\n",
    "new_shirt = Shirt(\"red\", \"S\", \"short sleeve\", 10)\n",
    "\n",
    "# access attributes\n",
    "print(new_shirt.color)\n",
    "print(new_shirt.size)\n",
    "print(new_shirt.style)\n",
    "print(new_shirt.price)\n",
    "\n",
    "# use method: discount\n",
    "print(new_shirt.discount(.2))"
   ]
  },
  {
   "cell_type": "code",
   "execution_count": 18,
   "metadata": {},
   "outputs": [
    {
     "name": "stdout",
     "output_type": "stream",
     "text": [
      "orange\n",
      "red\n",
      "purple\n",
      "M\n",
      "S\n",
      "XL\n"
     ]
    }
   ],
   "source": [
    "# build a tshirt collection\n",
    "tshirt_collection = []\n",
    "shirt_one = Shirt(\"orange\", \"M\", \"short-sleeve\", 25)\n",
    "shirt_two = Shirt(\"red\", \"S\", \"short-sleeve\", 15)\n",
    "shirt_three = Shirt(\"purple\", \"XL\", \"short-sleeve\", 10)\n",
    "\n",
    "tshirt_collection.append(shirt_one)\n",
    "tshirt_collection.append(shirt_two)\n",
    "tshirt_collection.append(shirt_three)\n",
    "\n",
    "for i in range(len(tshirt_collection)):\n",
    "    print(tshirt_collection[i].color)\n",
    "    \n",
    "# alternatively\n",
    "for shirt in tshirt_collection:\n",
    "    print(shirt.size)"
   ]
  },
  {
   "cell_type": "markdown",
   "metadata": {},
   "source": [
    "#### What is the difference between function and method?\n",
    "\n",
    "A function and a method look very similar and both use the `def` keyword. \n",
    "\n",
    "- The difference is that a method is inside of a class whereas a function is outside of a class. \n",
    "\n",
    "#### What is self?\n",
    "\n",
    "If you instantiate two objects, how does Python differentiate between these two objects?\n",
    "\n",
    "```python\n",
    "shirt_one = Shirt(\"red\", \"S\", \"short-sleeve\", 15)\n",
    "shirt_two = Shirt(\"yellow\", \"M\", \"long-sleeve\" 20)\n",
    "```\n",
    "\n",
    "If you call the `change_price` method on shirt_one, how does Python know to change tghe price of shirt_one and not shirt_two?\n",
    "\n",
    "```python\n",
    "shirt_one.change_price(12)\n",
    "```\n",
    "\n",
    "Python is calling the `change_price` method: \n",
    "\n",
    "```python\n",
    "def change_price(self, new_price):\n",
    "    self.price = new_price\n",
    "```\n",
    "\n",
    "`self` tells Python where to look in the computer's memory for the shirt_one object. Then, Python changes the price of the shirt_one object. When you call the `change_price` method, `shirt_one.change_price(12), self` is implicitly passed in. \n",
    "\n",
    "The word `self` is just a convention. Any other name could be used as well as long as you are consistent. However, when working with other people you should always use `self` rather than some other word or else you might confuse people. So why not use it in the first place...\n",
    "\n",
    "## Quiz: OOP Syntax Practice - Part 1"
   ]
  },
  {
   "cell_type": "code",
   "execution_count": 21,
   "metadata": {},
   "outputs": [
    {
     "name": "stdout",
     "output_type": "stream",
     "text": [
      "25\n",
      "10\n",
      "18.0\n"
     ]
    }
   ],
   "source": [
    "class Shirt:\n",
    "\n",
    "    def __init__(self, shirt_color, shirt_size, shirt_style, shirt_price):\n",
    "        self.color = shirt_color\n",
    "        self.size = shirt_size\n",
    "        self.style = shirt_style\n",
    "        self.price = shirt_price\n",
    "    \n",
    "    def change_price(self, new_price):\n",
    "    \n",
    "        self.price = new_price\n",
    "        \n",
    "    def discount(self, discount):\n",
    "\n",
    "        return self.price * (1 - discount)\n",
    "    \n",
    "shirt_one = Shirt(\"red\", \"S\", \"long-sleeve\", 25)\n",
    "print(shirt_one.price)\n",
    "shirt_one.change_price(10)\n",
    "print(shirt_one.price)\n",
    "shirt_one.discount(.12)\n",
    "\n",
    "shirt_two = Shirt(\"orange\", \"L\", \"short-sleeve\", 10)\n",
    "total = shirt_one.price + shirt_two.price\n",
    "total_discount = shirt_one.discount(.14) + shirt_two.discount(.06)\n",
    "print(total_discount)"
   ]
  },
  {
   "cell_type": "markdown",
   "metadata": {},
   "source": [
    "## A Couple of Notes about OOP\n",
    "\n",
    "#### General Workflow\n",
    "\n",
    "- Use modularized code\n",
    " - write class in one file and import class in another file\n",
    " - I.e. define class in \"shirt.py\"\n",
    " - Use `from shirt import Shirt` in another file\n",
    " - Then, run the code in the terminal\n",
    " \n",
    "#### Set and Get methods \n",
    "\n",
    "Accessing attributes in Python can be somewaht different than in other programming langauges. \n",
    "\n",
    "The shirt class has a method to change the price of the shirt: `shirt_one.change_price(20)`. In Python, you can also access and change the values of an attribute in the following way: \n",
    "\n",
    "```python\n",
    "shirt_one.price = 10\n",
    "shirt_one.price = 20\n",
    "shirt_one.color = \"red\"\n",
    "\n",
    "shirt_one.size = \"M\"\n",
    "shirt_one.style = \"long-sleeve\"\n",
    "```\n",
    "\n",
    "To access price, color and other attributes in this way would not be possible in other programming languages and there are reasons for this. \n",
    "\n",
    "In general, the convention of OOP is to use methods to access attributes or change attribute values. These methods are called **set** and **get** methods or setter and getter methods. \n",
    "\n",
    "- **Get method**: For obtaining an attribute value\n",
    "- **Set method**: Changing an attribute value. \n",
    "\n",
    "Example: \n",
    "\n",
    "```python\n",
    "class Shirt:\n",
    "    def __init__(self, shirt_color, shirt_size, shirt_style, shirt_price):\n",
    "        \n",
    "    def get_price(self):\n",
    "        return self._price\n",
    "    \n",
    "    def set_price(self, new_price):\n",
    "        self._price = new_price\n",
    "```\n",
    "Instantiating and using an object might look like this: \n",
    "\n",
    "```python\n",
    "shirt_one = Shirt(\"yellow\", \"M\", \"long-sleeve\", 15)\n",
    "print(shirt_one.get_price())\n",
    "shirt_one.set_price(10)\n",
    "```\n",
    "\n",
    "What about the underscore?\n",
    "\n",
    "- Controversial convention in Python\n",
    "- Comparable to a private variable in other languages\n",
    " - private variables in other languages prohibit an object from accessing the price attribute directly like `shirt_one._price = 15`\n",
    " - Python does not distinguish between private and public variables\n",
    "\n",
    "> Convention: Underscore in front of price is to let a programmer know that price should only be accessed with get and set methods and not directly with `shirt_one._price`\n",
    "\n",
    "- Note that in theory the programmer still could access price using `_price` but this is not following the intent of how the shirt class was designed.\n",
    "- Benefits set and get methods: Hide implementation from user. Maybe original variable was coded as list and became a dictionary. \n",
    " - Using get and set methods could easily change how that variable gets accessed. \n",
    " - Without set and get methods: Have to go to every place in the code that accessed the variable directly and change the code.  \n",
    " \n",
    "Additional resource: [Python Tutorial site](https://www.python-course.eu/python3_properties.php)\n",
    "\n",
    "#### A Note about Attributes\n",
    "\n",
    "Drawbacks to accessing attributes directly versus method for accessing attributes:\n",
    "\n",
    "- Python does not have the option to distinguish between private and public variables. \n",
    "\n",
    "Why might it be better to change a value with a method instead of directly? \n",
    "\n",
    "- Changing values via methods gives more flexibility in the long-term. \n",
    " - I.e. if units of measurement change (changing currencies for example)\n",
    " \n",
    "Example: \n",
    "\n",
    "```python\n",
    "shirt_one.price = 10 # USD\n",
    "\n",
    "# change to Euros \n",
    "shirt_one.price = 8 # ~EUR\n",
    "```\n",
    "\n",
    "If a method had been used, the you'd only have to change the method to convert form dollars to Euros.\n",
    "\n",
    "```python\n",
    "def change_price(self, new_price):\n",
    "    self.price = new_price * 0.81 # convert USD to EUR\n",
    "    \n",
    "shirt_one.change_price(10)\n",
    "```\n",
    "\n",
    "## Exercise: OOP Syntax Practice - Part 2\n",
    "\n",
    "- Write a `Pants` class similar to the `Shirt` class\n",
    " - Practice instantiating Pants objects\n",
    "- Write a `SalesPerson` class\n",
    " - Practice instantiating objects for this class\n",
    " \n",
    "#### Pants class\n",
    "\n",
    "Characteristics: \n",
    "\n",
    "* the class name should be Pants\n",
    "* the class attributes should include\n",
    " * color\n",
    " * waist_size\n",
    " * length\n",
    " * price\n",
    "* the class should have an init function that initializes all of the attributes\n",
    "* the class should have two methods\n",
    " * change_price() a method to change the price attribute\n",
    " * discount() to calculate a discount"
   ]
  },
  {
   "cell_type": "code",
   "execution_count": 23,
   "metadata": {},
   "outputs": [
    {
     "name": "stdout",
     "output_type": "stream",
     "text": [
      "You made it to the end of the check. Nice job!\n"
     ]
    }
   ],
   "source": [
    "### TODO:\n",
    "#   - code a Pants class with the following attributes\n",
    "#   - color (string) eg 'red', 'yellow', 'orange'\n",
    "#   - waist_size (integer) eg 8, 9, 10, 32, 33, 34\n",
    "#   - length (integer) eg 27, 28, 29, 30, 31\n",
    "#   - price (float) eg 9.28\n",
    "\n",
    "### TODO: Declare the Pants Class \n",
    "class Pants:\n",
    "\n",
    "### TODO: write an __init__ function to initialize the attributes\n",
    "    def __init__(self, pants_color, pants_waist_size, pants_length, pants_price):\n",
    "        self.color = pants_color\n",
    "        self.waist_size = pants_waist_size\n",
    "        self.length = pants_length\n",
    "        self.price = pants_price \n",
    "\n",
    "### TODO: write a change_price method:\n",
    "#    Args:\n",
    "#        new_price (float): the new price of the shirt\n",
    "#    Returns:\n",
    "#        None\n",
    "    def change_price(self, new_price):\n",
    "        self.price = new_price\n",
    "\n",
    "### TODO: write a discount method:\n",
    "#    Args:\n",
    "#        discount (float): a decimal value for the discount. \n",
    "#            For example 0.05 for a 5% discount.\n",
    "#\n",
    "#    Returns:\n",
    "#        float: the discounted price\n",
    "    def discount(self, discount):\n",
    "        return self.price * (1-discount)\n",
    "    \n",
    "    \n",
    "### Check results ###\n",
    "def check_results():\n",
    "    pants = Pants('red', 35, 36, 15.12)\n",
    "    assert pants.color == 'red'\n",
    "    assert pants.waist_size == 35\n",
    "    assert pants.length == 36\n",
    "    assert pants.price == 15.12\n",
    "    \n",
    "    pants.change_price(10) == 10\n",
    "    assert pants.price == 10 \n",
    "    \n",
    "    assert pants.discount(.1) == 9\n",
    "    \n",
    "    print('You made it to the end of the check. Nice job!')\n",
    "\n",
    "check_results()"
   ]
  },
  {
   "cell_type": "markdown",
   "metadata": {},
   "source": [
    "#### SalesPerson class\n",
    "\n",
    "The Pants class and Shirt class are quite similar. Here is an exercise to give you more practice writing a class. **This exercise is trickier than the previous exercises.**\n",
    "\n",
    "Write a SalesPerson class with the following characteristics:\n",
    "* the class name should be SalesPerson\n",
    "* the class attributes should include\n",
    " * first_name \n",
    " * last_name\n",
    " * employee_id\n",
    " * salary\n",
    " * pants_sold\n",
    " * total_sales\n",
    "* the class should have an init function that initializes all of the attributes\n",
    "* the class should have four methods\n",
    " * sell_pants() a method to change the price attribute\n",
    " * calculate_sales() a method to calculate the sales\n",
    " * display_sales() a method to print out all the pants sold with nice formatting\n",
    " * calculate_commission() a method to calculate the salesperson commission based on total sales and a percentage"
   ]
  },
  {
   "cell_type": "code",
   "execution_count": 100,
   "metadata": {},
   "outputs": [],
   "source": [
    "class SalesPerson:\n",
    "    # initialize attributes\n",
    "    def __init__(self, first_name, last_name, employee_id, salary):\n",
    "        self.first_name = first_name\n",
    "        self.last_name = last_name\n",
    "        self.employee_id = employee_id\n",
    "        self.salary = salary\n",
    "        self.pants_sold = []\n",
    "        self.total_sales = 0\n",
    "    \n",
    "    # sell_pants method\n",
    "    def sell_pants(self, pants):\n",
    "        self.pants_sold.append(pants)\n",
    "    \n",
    "    # display_sales method\n",
    "    def display_sales(self):\n",
    "        for pants in self.pants_sold:\n",
    "            print('color: {}, waist_size: {}, length: {}, price: {}'\\\n",
    "                  .format(pants.color, pants.waist_size, pants.length, pants.price))\n",
    "    \n",
    "    # calculate_sales method\n",
    "    def calculate_sales(self):\n",
    "        for pants in self.pants_sold:\n",
    "            self.total_sales += pants.price\n",
    "        return self.total_sales\n",
    "        \n",
    "    # calculate_commission method\n",
    "    def calculate_commission(self, percentage):\n",
    "        self.total_commission = percentage * self.total_sales\n",
    "        return self.total_commission"
   ]
  },
  {
   "cell_type": "code",
   "execution_count": 101,
   "metadata": {},
   "outputs": [
    {
     "name": "stdout",
     "output_type": "stream",
     "text": [
      "Done! No Mistakes here\n"
     ]
    }
   ],
   "source": [
    "def check_results():\n",
    "    pants_one = Pants(\"red\", 34, 34, 10)\n",
    "    pants_two = Pants(\"black\", 30, 28, 25)\n",
    "\n",
    "    SP1 = SalesPerson(\"Erica\", \"Whatever\", 258, 2000)\n",
    "    \n",
    "    assert SP1.first_name == \"Erica\"\n",
    "    assert SP1.last_name == \"Whatever\"\n",
    "    assert SP1.employee_id == 258\n",
    "    assert SP1.salary == 2000\n",
    "    assert SP1.pants_sold == []\n",
    "    assert SP1.total_sales == 0\n",
    "    \n",
    "    SP1.sell_pants(pants_one)\n",
    "    SP1.sell_pants(pants_two)\n",
    "\n",
    "    assert len(SP1.pants_sold) == 2\n",
    "    assert round(SP1.calculate_sales(), 2) == 35\n",
    "    assert round(SP1.calculate_commission(.1), 2) == 3.5\n",
    "\n",
    "    print(\"Done! No Mistakes here\")\n",
    "    \n",
    "check_results()"
   ]
  },
  {
   "cell_type": "code",
   "execution_count": 103,
   "metadata": {},
   "outputs": [
    {
     "name": "stdout",
     "output_type": "stream",
     "text": [
      "color: red, waist_size: 34, length: 34, price: 10,\n",
      "color: black, waist_size: 30, length: 28, price: 25,\n"
     ]
    }
   ],
   "source": [
    "SP1.display_sales()"
   ]
  },
  {
   "cell_type": "markdown",
   "metadata": {},
   "source": [
    "## Commenting Object-Oriented Code\n",
    "\n",
    "- Reminder to use docstrings and comment your code!\n",
    "- Helps other people to understand your code.\n",
    "- [readthedocs](http://sphinxcontrib-napoleon.readthedocs.io/en/latest/example_google.html)"
   ]
  },
  {
   "cell_type": "markdown",
   "metadata": {},
   "source": [
    "## Gaussian Class\n",
    "\n",
    "Goal: Build a Python package that contains code to analyze Gaussian distributions. \n",
    "\n",
    "- Read in dataset\n",
    "- Calculate mean\n",
    "- Calculate standard deviation\n",
    "- plot histogram\n",
    "- plot probability density function\n",
    "- add two gaussian distributions\n",
    "\n",
    "#### Gaussian Distribution\n",
    "\n",
    "Probability density function:\n",
    "\n",
    "$$\n",
    "f(x| \\mu, \\sigma^2) = \\frac{1}{\\sqrt{2 \\pi \\sigma^2}} e^{- \\frac{(x-\\mu)^2}{2 \\sigma^2}}\n",
    "$$\n",
    "\n",
    "#### Binomial Distribution\n",
    "\n",
    "Mean:\n",
    "$$\n",
    "\\mu = n \\cdot p\n",
    "$$\n",
    "\n",
    "If you flip a coin 20 times, the mean would be $20*0.5 = 10$ and you'd expect to get 10 heads. \n",
    "\n",
    "Variance:\n",
    "$$\n",
    "\\sigma^2 = n \\cdot p \\cdot (1-p)\n",
    "$$\n",
    "\n",
    "Probability density function:\n",
    "\n",
    "$$ \n",
    "f(k, n, p) = \\frac{n!}{k! (n-k)!} p^k (1-p) ^{(n-k)}\n",
    "$$\n",
    "\n",
    "\n"
   ]
  },
  {
   "cell_type": "code",
   "execution_count": 106,
   "metadata": {},
   "outputs": [
    {
     "data": {
      "text/plain": [
       "5.916079783099616"
      ]
     },
     "execution_count": 106,
     "metadata": {},
     "output_type": "execute_result"
    }
   ],
   "source": [
    "35**0.5"
   ]
  },
  {
   "cell_type": "code",
   "execution_count": 118,
   "metadata": {},
   "outputs": [
    {
     "name": "stdout",
     "output_type": "stream",
     "text": [
      "-0.7352941176470589\n",
      "-1.7647058823529411\n"
     ]
    },
    {
     "data": {
      "text/plain": [
       "0.1935"
      ]
     },
     "execution_count": 118,
     "metadata": {},
     "output_type": "execute_result"
    }
   ],
   "source": [
    "# gaussian\n",
    "def z_score(weight):\n",
    "    z = (weight - 180) / 34\n",
    "    return z\n",
    "\n",
    "print(z_score(155))\n",
    "print(z_score(120))\n",
    "\n",
    "0.9608 - 0.7673"
   ]
  },
  {
   "cell_type": "code",
   "execution_count": 151,
   "metadata": {},
   "outputs": [
    {
     "name": "stdout",
     "output_type": "stream",
     "text": [
      "P(X=7) = 0.12\n"
     ]
    }
   ],
   "source": [
    "# factorial function: recursive solution\n",
    "def factorial(n):\n",
    "    if n == 1:\n",
    "        return 1\n",
    "    else:\n",
    "        return n*fact(n-1)\n",
    "\n",
    "# Binomial pdf\n",
    "p = 0.15 # allergic\n",
    "n = 60 # people\n",
    "k = 7 # \"Success\" = allergic\n",
    "\n",
    "def binomial_pdf(k, n, p):\n",
    "    p1 = factorial(n) / (factorial(k)* factorial(n-k))\n",
    "    p2 = (p**k) * ((1-p)**(n-k))\n",
    "    return p1*p2\n",
    "\n",
    "print(\"P(X=7) =\", round(binomial_pdf(k, n, p),2))"
   ]
  },
  {
   "cell_type": "markdown",
   "metadata": {},
   "source": [
    "## Gaussian Code Exercise\n",
    "\n",
    "Code a gaussian class\n",
    "\n",
    "- calculate mean\n",
    "- calculate stdev\n",
    "- read in data\n",
    "- plot histogram\n",
    "- pdf\n",
    "- plot histogram of pdf\n"
   ]
  },
  {
   "cell_type": "code",
   "execution_count": 156,
   "metadata": {},
   "outputs": [
    {
     "data": {
      "text/plain": [
       "2.5"
      ]
     },
     "execution_count": 156,
     "metadata": {},
     "output_type": "execute_result"
    }
   ],
   "source": [
    "df = [1,2,3,4]\n",
    "sum(df)/len(df)"
   ]
  },
  {
   "cell_type": "code",
   "execution_count": null,
   "metadata": {},
   "outputs": [],
   "source": [
    "# import libraries\n",
    "import math\n",
    "import matplotlib.pyplot as plt\n",
    "\n",
    "class Gaussian:\n",
    "    # initialize self\n",
    "    def __init__(self, mu=0, sigma=1):\n",
    "        self.mean = mu\n",
    "        self.stdev = sigma\n",
    "        self.data = []\n",
    "        \n",
    "    # calculate mean method\n",
    "    def calculate_mean(self):\n",
    "        return sum(self.data) / len(self.data) \n",
    "\n",
    "    # method to calculate stdev\n",
    "    def calculate stdev(self, sample=True):\n",
    "        \n",
    "    "
   ]
  },
  {
   "cell_type": "code",
   "execution_count": null,
   "metadata": {},
   "outputs": [],
   "source": []
  }
 ],
 "metadata": {
  "kernelspec": {
   "display_name": "Python [conda env:Anaconda3]",
   "language": "python",
   "name": "conda-env-Anaconda3-py"
  },
  "language_info": {
   "codemirror_mode": {
    "name": "ipython",
    "version": 3
   },
   "file_extension": ".py",
   "mimetype": "text/x-python",
   "name": "python",
   "nbconvert_exporter": "python",
   "pygments_lexer": "ipython3",
   "version": "3.6.6"
  }
 },
 "nbformat": 4,
 "nbformat_minor": 2
}
